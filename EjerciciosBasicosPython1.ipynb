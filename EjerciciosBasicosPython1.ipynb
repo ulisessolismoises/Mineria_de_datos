{
 "cells": [
  {
   "cell_type": "markdown",
   "metadata": {},
   "source": [
    "# UANL\n",
    "# FCFM\n",
    "## Licenciatura en Actuaría\n",
    "## Minería de datos 003\n",
    "## Maestra. Mayra Berrones\n",
    "## Tarea ejercicios básicos de Python\n",
    "\n",
    "\n",
    "## Ulises Solis Moises\n",
    "## 22 / 10 / 2020\n",
    "\n",
    "###  Ejercicio 1:\n"
   ]
  },
  {
   "cell_type": "markdown",
   "metadata": {},
   "source": [
    "Realiza una variable con tu matricula y realiza una secuencia de imprimir con tu nombre y tu matricula concatenados"
   ]
  },
  {
   "cell_type": "code",
   "execution_count": 14,
   "metadata": {},
   "outputs": [
    {
     "name": "stdout",
     "output_type": "stream",
     "text": [
      "El nombre y matrícula del alumno es:  Ulises Solis Moises 1887850\n"
     ]
    }
   ],
   "source": [
    "matricula = 1887850\n",
    "infoUli = ['Ulises Solis Moises', matricula]\n",
    "print ( \"El nombre y matrícula del alumno es: \", infoUli[0],infoUli[1]  )"
   ]
  },
  {
   "cell_type": "markdown",
   "metadata": {},
   "source": [
    "### Ejercicio 2:"
   ]
  },
  {
   "cell_type": "markdown",
   "metadata": {},
   "source": [
    "Pidiendo el input del usuario pide dos números y crea una pequeña calculadora con los operadores básicos de suma, resta, multiplicación, división, y exponente.\n"
   ]
  },
  {
   "cell_type": "code",
   "execution_count": 40,
   "metadata": {},
   "outputs": [
    {
     "name": "stdout",
     "output_type": "stream",
     "text": [
      "Introduce el primer número:3.4\n",
      "Introduce el segundo número:2.5\n",
      "Introduce el símbolo del operador, + - * / exp :exp\n",
      "La operación es:  3.4 exp 2.5\n",
      "¿Es correcta la línea anterior? si / no:si\n",
      "La operación es: 3.400000  exp  2.500000 y su respuesta es: 21.315587\n"
     ]
    }
   ],
   "source": [
    "\n",
    "x = float(input(\"Introduce el primer número:\"))\n",
    "y = float(input(\"Introduce el segundo número:\"))\n",
    "operador = input(\"Introduce el símbolo del operador, + - * / exp :\" )\n",
    "\n",
    "\n",
    "print (\"La operación es: \", x , operador, y )\n",
    "flag = input(\"¿Es correcta la línea anterior? si / no:\" )\n",
    "\n",
    "\n",
    "\n",
    "if flag == \"si\" :\n",
    "    if operador == \"+\":\n",
    "        respuesta = x + y\n",
    "    else :\n",
    "        if operador == \"-\":\n",
    "            respuesta = x - y\n",
    "        else:\n",
    "            if operador == \"/\":\n",
    "                respuesta= x / y\n",
    "            else:\n",
    "                if operador == \"*\":\n",
    "                    respuesta = x * y\n",
    "                else:\n",
    "                    if operador == \"exp\":\n",
    "                        respuesta = x ** y\n",
    "    s= \"La operación es: %f  %s  %f y su respuesta es: %f\" %(x , operador, y, respuesta) \n",
    "    print (s)\n",
    "else: print (\"Introduzca de manera correcta su operación\")    \n",
    "    \n",
    "\n"
   ]
  },
  {
   "cell_type": "markdown",
   "metadata": {},
   "source": [
    "### Ejercicio 3\n"
   ]
  },
  {
   "cell_type": "markdown",
   "metadata": {},
   "source": [
    "Con loop while o for, realiza una lista de 10 numeros multiplos de 3, y después realiza una función de loop que sume todos los números dentro del arreglo.\n"
   ]
  },
  {
   "cell_type": "code",
   "execution_count": 17,
   "metadata": {},
   "outputs": [
    {
     "name": "stdout",
     "output_type": "stream",
     "text": [
      "[3, 6, 9, 12, 15, 18, 21, 24, 27, 30]\n",
      "165\n"
     ]
    }
   ],
   "source": [
    "lista1 = []\n",
    "j=3\n",
    "i=1\n",
    "while i <=10:\n",
    "    lista1.append(j)\n",
    "    j=j+3 \n",
    "    i=i+1\n",
    "print (lista1)\n",
    "suma=0\n",
    "for i in range(len(lista1)) :\n",
    "    suma= suma + lista1[i]\n",
    "    \n",
    "print (suma)\n"
   ]
  },
  {
   "cell_type": "markdown",
   "metadata": {},
   "source": [
    "### Ejercicio 4\n"
   ]
  },
  {
   "cell_type": "markdown",
   "metadata": {},
   "source": [
    "-Con una función de if else, revisar si un número es par o es impar.\n",
    "    -Con una función de if else, revisar si un número es primo o no."
   ]
  },
  {
   "cell_type": "code",
   "execution_count": 59,
   "metadata": {},
   "outputs": [
    {
     "name": "stdout",
     "output_type": "stream",
     "text": [
      "Introduce el número:33\n",
      "El número 33 es impar\n"
     ]
    }
   ],
   "source": [
    "\n",
    "x = int(input(\"Introduce el número:\"))\n",
    "if x % 2 == 0:\n",
    "    print('El número', x, 'es par')\n",
    "else:\n",
    "    print('El número', x, 'es impar')"
   ]
  },
  {
   "cell_type": "markdown",
   "metadata": {},
   "source": [
    "### Ejercicio 5"
   ]
  },
  {
   "cell_type": "markdown",
   "metadata": {},
   "source": [
    "Utilizando diferentes clases en python, crea una calculadora con los operadores básicos de suma, resta, multiplicación, división, y exponente."
   ]
  },
  {
   "cell_type": "code",
   "execution_count": 65,
   "metadata": {},
   "outputs": [],
   "source": [
    "class sumando:\n",
    "    def __init__(self, a, b):\n",
    "        self.a = a\n",
    "        self.b = b\n",
    "    def suma(self):\n",
    "        return (self.a + self.b)"
   ]
  },
  {
   "cell_type": "code",
   "execution_count": 70,
   "metadata": {},
   "outputs": [],
   "source": [
    "class restando:\n",
    "    def __init__(self, a, b):\n",
    "        self.a = a\n",
    "        self.b = b\n",
    "    def resta(self):\n",
    "        return (self.a - self.b)"
   ]
  },
  {
   "cell_type": "code",
   "execution_count": 71,
   "metadata": {},
   "outputs": [],
   "source": [
    "class multiplicando:\n",
    "    def __init__(self, a, b):\n",
    "        self.a = a\n",
    "        self.b = b\n",
    "    def multiplicacion(self):\n",
    "        return (self.a * self.b)"
   ]
  },
  {
   "cell_type": "code",
   "execution_count": 73,
   "metadata": {},
   "outputs": [],
   "source": [
    "class dividiendo:\n",
    "    def __init__(self, a, b):\n",
    "        self.a = a\n",
    "        self.b = b\n",
    "    def division(self):\n",
    "        return (self.a / self.b)"
   ]
  },
  {
   "cell_type": "code",
   "execution_count": 74,
   "metadata": {},
   "outputs": [],
   "source": [
    "class exponente:\n",
    "    def __init__(self, a, b):\n",
    "        self.a = a\n",
    "        self.b = b\n",
    "    def expo(self):\n",
    "        return (self.a ** self.b)"
   ]
  },
  {
   "cell_type": "code",
   "execution_count": 76,
   "metadata": {},
   "outputs": [
    {
     "name": "stdout",
     "output_type": "stream",
     "text": [
      "Introduce el primer número:6.7\n",
      "Introduce el segundo número:2.3\n",
      "Introduce el símbolo del operador, + - * / exp :exp\n",
      "La operación es:  6.7 exp 2.3\n",
      "¿Es correcta la línea anterior? si / no:si\n",
      "La operación es: 6.700000  exp  2.300000 y su respuesta es: 79.427711\n"
     ]
    }
   ],
   "source": [
    "x = float(input(\"Introduce el primer número:\"))\n",
    "y = float(input(\"Introduce el segundo número:\"))\n",
    "operador = input(\"Introduce el símbolo del operador, + - * / exp :\" )\n",
    "\n",
    "\n",
    "print (\"La operación es: \", x , operador, y )\n",
    "flag = input(\"¿Es correcta la línea anterior? si / no:\" )\n",
    "\n",
    "\n",
    "\n",
    "if flag == \"si\" :\n",
    "    if operador == \"+\":\n",
    "        op=sumando(x,y)\n",
    "        respuesta = op.suma()\n",
    "    elif operador == \"-\":\n",
    "        op=restando(x,y)\n",
    "        respuesta = op.resta()\n",
    "    elif operador == \"/\":\n",
    "        op=dividiendo(x,y)\n",
    "        respuesta = op.division()\n",
    "    elif operador == \"*\":\n",
    "        op=multiplicando(x,y)\n",
    "        respuesta = op.multiplicacion()\n",
    "    elif operador == \"exp\":\n",
    "        op=exponente(x,y)\n",
    "        respuesta = op.expo()\n",
    "    s= \"La operación es: %f  %s  %f y su respuesta es: %f\" %(x , operador, y, respuesta) \n",
    "    print (s)\n",
    "else: print (\"Introduzca de manera correcta su operación\")    \n",
    "    "
   ]
  },
  {
   "cell_type": "markdown",
   "metadata": {},
   "source": [
    "### Tuplas\n"
   ]
  },
  {
   "cell_type": "markdown",
   "metadata": {},
   "source": [
    "Crear una variable flotante, integer, boleana y compleja e imprimir el tipo de variable que es."
   ]
  },
  {
   "cell_type": "code",
   "execution_count": 1,
   "metadata": {},
   "outputs": [
    {
     "name": "stdout",
     "output_type": "stream",
     "text": [
      "<class 'float'> <class 'int'> <class 'bool'> <class 'complex'>\n"
     ]
    }
   ],
   "source": [
    "a=19.78\n",
    "b=5\n",
    "c=True\n",
    "d=1j\n",
    "print ( type(a),type(b) ,type(c) ,type(d)  )\n"
   ]
  },
  {
   "cell_type": "markdown",
   "metadata": {},
   "source": [
    "Crear una tupla con valores enteros imprimir el primer y ultimo valor.\n",
    "\n"
   ]
  },
  {
   "cell_type": "code",
   "execution_count": 3,
   "metadata": {},
   "outputs": [
    {
     "name": "stdout",
     "output_type": "stream",
     "text": [
      "10 66\n"
     ]
    }
   ],
   "source": [
    "tuplex = (10, 7, 95, 35, 66)\n",
    "print (tuplex[0],x[-1])"
   ]
  },
  {
   "cell_type": "markdown",
   "metadata": {},
   "source": [
    "Añadir 3 valores de string a la tupla."
   ]
  },
  {
   "cell_type": "code",
   "execution_count": 5,
   "metadata": {},
   "outputs": [],
   "source": [
    "tuplox = (\"hola\", \"nada\", \"quesu cede\")\n",
    "tuplax = tuplex + tuplox\n"
   ]
  },
  {
   "cell_type": "markdown",
   "metadata": {},
   "source": [
    "Verificar si una variable existe dentro de la tupla.\n",
    "\n"
   ]
  },
  {
   "cell_type": "code",
   "execution_count": 7,
   "metadata": {},
   "outputs": [
    {
     "name": "stdout",
     "output_type": "stream",
     "text": [
      "quesu cede se encuentra de la Tupla\n"
     ]
    }
   ],
   "source": [
    "if \"quesu cede\" in tuplax:\n",
    "    print(\"quesu cede se encuentra de la Tupla\")\n",
    "else:\n",
    "    print(\"La variable quesu cede no se encuentra de la Tupla\")\n"
   ]
  },
  {
   "cell_type": "markdown",
   "metadata": {},
   "source": [
    "### Listas"
   ]
  },
  {
   "cell_type": "markdown",
   "metadata": {},
   "source": [
    "Crear una lista con 40 elementos aleatorios enteros."
   ]
  },
  {
   "cell_type": "code",
   "execution_count": 50,
   "metadata": {},
   "outputs": [
    {
     "name": "stdout",
     "output_type": "stream",
     "text": [
      "[20, 71, 60, 30, 76, 63, 32, 29, 43, 92, 66, 14, 49, 47, 29, 84, 62, 68, 49, 71, 85, 56, 49, 29, 15, 63, 26, 13, 51, 57, 34, 26, 91, 57, 36, 41, 38, 92, 13]\n"
     ]
    }
   ],
   "source": [
    "import random as r\n",
    "x = []\n",
    "for i in range(39):\n",
    "    x.append(r.randint(1, 100))\n",
    "\n",
    "print (x)"
   ]
  },
  {
   "cell_type": "markdown",
   "metadata": {},
   "source": [
    "Con una funcion (def) crear dos listas nuevas a partir de la lista creada por numeros aleatorios, en la cual en una esten los elementos pares, y en la otra los elementos impares."
   ]
  },
  {
   "cell_type": "code",
   "execution_count": 51,
   "metadata": {},
   "outputs": [
    {
     "name": "stdout",
     "output_type": "stream",
     "text": [
      "La lista de los números pares es:  [20, 60, 30, 76, 32, 92, 66, 14, 84, 62, 68, 56, 26, 34, 26, 36, 38, 92]\n",
      "La lista de los números impares es:  [71, 63, 29, 43, 49, 47, 29, 49, 71, 85, 49, 29, 15, 63, 13, 51, 57, 91, 57, 41, 13]\n"
     ]
    }
   ],
   "source": [
    "def clasificacion_lista(lis):    \n",
    "    lista_par=[]\n",
    "    lista_impar=[]    \n",
    "    \n",
    "    for i in range(39):\n",
    "        if lis[i] % 2 == 0:\n",
    "            lista_par.append(lis[i]) \n",
    "        else:\n",
    "            lista_impar.append(lis[i])\n",
    "            \n",
    "    print (\"La lista de los números pares es: \",lista_par)\n",
    "    print (\"La lista de los números impares es: \",lista_impar)\n",
    "    \n",
    "    return lista_par, lista_impar\n",
    "par,impar = clasificacion_lista(x)"
   ]
  },
  {
   "cell_type": "markdown",
   "metadata": {},
   "source": [
    "Crear dos variables con la longitud de ambas listas nuevas e imprimir las variables."
   ]
  },
  {
   "cell_type": "code",
   "execution_count": 52,
   "metadata": {},
   "outputs": [
    {
     "name": "stdout",
     "output_type": "stream",
     "text": [
      "La lista de los números pares es:  [20, 60, 30, 76, 32, 92, 66, 14, 84, 62, 68, 56, 26, 34, 26, 36, 38, 92]\n",
      "La lista de los números impares es:  [71, 63, 29, 43, 49, 47, 29, 49, 71, 85, 49, 29, 15, 63, 13, 51, 57, 91, 57, 41, 13]\n",
      "18\n",
      "21\n"
     ]
    }
   ],
   "source": [
    "par,impar = clasificacion_lista(x)\n",
    "long_par = len(par)\n",
    "long_imp = len(impar)\n",
    "print (long_par)\n",
    "print (long_imp)"
   ]
  },
  {
   "cell_type": "markdown",
   "metadata": {},
   "source": [
    "Ordenar los elementos de la lista par de mayor a menor, y los de la lista impar de menor a mayor."
   ]
  },
  {
   "cell_type": "code",
   "execution_count": 53,
   "metadata": {},
   "outputs": [
    {
     "name": "stdout",
     "output_type": "stream",
     "text": [
      "[14, 20, 26, 26, 30, 32, 34, 36, 38, 56, 60, 62, 66, 68, 76, 84, 92, 92]\n",
      "[91, 85, 71, 71, 63, 63, 57, 57, 51, 49, 49, 49, 47, 43, 41, 29, 29, 29, 15, 13, 13]\n"
     ]
    }
   ],
   "source": [
    "par.sort()\n",
    "impar.sort(reverse=True)\n",
    "print (par)\n",
    "print (impar)"
   ]
  },
  {
   "cell_type": "markdown",
   "metadata": {},
   "source": [
    "Utilizar al menos cuatro de las funciones de listas en python en la lista original de 40 elementos.\n"
   ]
  },
  {
   "cell_type": "code",
   "execution_count": 55,
   "metadata": {},
   "outputs": [
    {
     "name": "stdout",
     "output_type": "stream",
     "text": [
      "[20, 71, 60, 63, 32, 29, 43, 92, 66, 14, 49, 47, 29, 84, 62, 68, 49, 71, 85, 56, 49, 29, 15, 63, 26, 13, 51, 57, 34, 26, 91, 57, 36, 41, 38, 92, 13, 4]\n",
      "1\n"
     ]
    }
   ],
   "source": [
    "x.pop(3)\n",
    "x.append(3)\n",
    "x.remove(3)\n",
    "x.append(4)\n",
    "a = x.count(4)\n",
    "print(x)\n",
    "print(a)\n",
    "\n"
   ]
  },
  {
   "cell_type": "markdown",
   "metadata": {},
   "source": [
    "### Diccionarios"
   ]
  },
  {
   "cell_type": "markdown",
   "metadata": {},
   "source": [
    "Crear un diccionario de 6 personas que conozcas con su primer nombre y su edad.\n",
    "\n"
   ]
  },
  {
   "cell_type": "code",
   "execution_count": 2,
   "metadata": {},
   "outputs": [],
   "source": [
    "conocidos = {\n",
    "    \"Changüi\":21,\n",
    "    \"Valepony\":13,\n",
    "    \"Elsy\":22,\n",
    "    \"Miguel\":20,\n",
    "    \"Javier\":50,\n",
    "    \"Mimi\":75,\n",
    "}"
   ]
  },
  {
   "cell_type": "markdown",
   "metadata": {},
   "source": [
    "Crear una lista con los valores de la edad y reacomodar la lista de menor a mayor valor."
   ]
  },
  {
   "cell_type": "code",
   "execution_count": 5,
   "metadata": {},
   "outputs": [
    {
     "name": "stdout",
     "output_type": "stream",
     "text": [
      "[13, 20, 21, 22, 50, 75]\n"
     ]
    }
   ],
   "source": [
    "cono_lista=[conocidos[\"Changüi\"], conocidos[\"Valepony\"], conocidos[\"Elsy\"], conocidos[\"Miguel\"], conocidos[\"Javier\"], conocidos[\"Mimi\"]]\n",
    "cono_lista.sort()\n",
    "print (cono_lista)"
   ]
  },
  {
   "cell_type": "markdown",
   "metadata": {},
   "source": [
    "Usando el diccionario y un loop, imprimir solo los nombres.\n",
    "\n"
   ]
  },
  {
   "cell_type": "code",
   "execution_count": 8,
   "metadata": {},
   "outputs": [
    {
     "name": "stdout",
     "output_type": "stream",
     "text": [
      "Changüi\n",
      "Valepony\n",
      "Elsy\n",
      "Miguel\n",
      "Javier\n",
      "Mimi\n"
     ]
    }
   ],
   "source": [
    "for x in conocidos:\n",
    "    print(x)"
   ]
  },
  {
   "cell_type": "markdown",
   "metadata": {},
   "source": [
    "Añadir dos personas nuevas a tu diccionario, incluyendo edad.\n",
    "\n"
   ]
  },
  {
   "cell_type": "code",
   "execution_count": 10,
   "metadata": {},
   "outputs": [
    {
     "name": "stdout",
     "output_type": "stream",
     "text": [
      "{'Changüi': 21, 'Valepony': 13, 'Elsy': 22, 'Miguel': 20, 'Javier': 50, 'Mimi': 75, 'David': 22, 'Lagunes': 19}\n"
     ]
    }
   ],
   "source": [
    "conocidos[\"David\"]=22\n",
    "conocidos[\"Lagunes\"]=19\n",
    "print (conocidos)"
   ]
  },
  {
   "cell_type": "markdown",
   "metadata": {},
   "source": [
    "### Sets"
   ]
  },
  {
   "cell_type": "markdown",
   "metadata": {},
   "source": [
    "Crea un set con 100 numeros aleatorios enteros del 1 al 25.\n",
    "\n"
   ]
  },
  {
   "cell_type": "code",
   "execution_count": 2,
   "metadata": {},
   "outputs": [
    {
     "name": "stdout",
     "output_type": "stream",
     "text": [
      "{1, 2, 3, 4, 5, 6, 7, 8, 9, 10, 11, 12, 13, 14, 15, 16, 17, 18, 19, 20, 21, 22, 23, 24, 25}\n"
     ]
    }
   ],
   "source": [
    "import random as r\n",
    "set_mineria = {0}\n",
    "set_mineria.remove(0)\n",
    "i=0\n",
    "while i <= 100:\n",
    "    a = r.randint(1, 25)\n",
    "    set_mineria.add(a)\n",
    "    i=i+1\n",
    "print(set_mineria)\n",
    "\n",
    "\n"
   ]
  },
  {
   "cell_type": "markdown",
   "metadata": {},
   "source": [
    "Comprueba la longitud de tu set."
   ]
  },
  {
   "cell_type": "code",
   "execution_count": 3,
   "metadata": {},
   "outputs": [
    {
     "data": {
      "text/plain": [
       "25"
      ]
     },
     "execution_count": 3,
     "metadata": {},
     "output_type": "execute_result"
    }
   ],
   "source": [
    "len(set_mineria)"
   ]
  },
  {
   "cell_type": "markdown",
   "metadata": {},
   "source": [
    "Crea una lista de 5 numeros aleatorios del 1 al 10 y comprueba si cada valor aparece en el set inicial.\n",
    "\n"
   ]
  },
  {
   "cell_type": "code",
   "execution_count": 6,
   "metadata": {},
   "outputs": [
    {
     "name": "stdout",
     "output_type": "stream",
     "text": [
      "[10, 3, 9, 2, 8, 9, 2, 6, 10]\n",
      "El número:  10  estará en nuestro set? True\n",
      "El número:  3  estará en nuestro set? True\n",
      "El número:  9  estará en nuestro set? True\n",
      "El número:  2  estará en nuestro set? True\n",
      "El número:  8  estará en nuestro set? True\n",
      "El número:  9  estará en nuestro set? True\n",
      "El número:  2  estará en nuestro set? True\n",
      "El número:  6  estará en nuestro set? True\n",
      "El número:  10  estará en nuestro set? True\n"
     ]
    }
   ],
   "source": [
    "import random as r\n",
    "\n",
    "alt_1_10=[]\n",
    "\n",
    "for i in range(9):\n",
    "    alt_1_10.append(r.randint(1, 10))\n",
    "    \n",
    "print (alt_1_10)\n",
    "\n",
    "for i in range(len(alt_1_10)):\n",
    "    print (\"El número: \", alt_1_10[i],\" estará en nuestro set?\", alt_1_10[i] in set_mineria )\n",
    "    "
   ]
  },
  {
   "cell_type": "code",
   "execution_count": null,
   "metadata": {},
   "outputs": [],
   "source": []
  }
 ],
 "metadata": {
  "kernelspec": {
   "display_name": "Python 3",
   "language": "python",
   "name": "python3"
  },
  "language_info": {
   "codemirror_mode": {
    "name": "ipython",
    "version": 3
   },
   "file_extension": ".py",
   "mimetype": "text/x-python",
   "name": "python",
   "nbconvert_exporter": "python",
   "pygments_lexer": "ipython3",
   "version": "3.8.3"
  }
 },
 "nbformat": 4,
 "nbformat_minor": 4
}
